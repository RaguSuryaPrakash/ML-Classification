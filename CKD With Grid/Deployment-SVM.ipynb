{
 "cells": [
  {
   "cell_type": "code",
   "execution_count": 3,
   "id": "72a41867",
   "metadata": {},
   "outputs": [],
   "source": [
    "import pickle\n",
    "import numpy as np\n",
    "filename = 'finalised_model_SVC_Grid.sav'\n",
    "filename1 = \"scx.pkl\"\n"
   ]
  },
  {
   "cell_type": "code",
   "execution_count": 5,
   "id": "4f29b7c9",
   "metadata": {},
   "outputs": [
    {
     "name": "stdout",
     "output_type": "stream",
     "text": [
      "Prediction result: [1]\n"
     ]
    },
    {
     "name": "stderr",
     "output_type": "stream",
     "text": [
      "C:\\Users\\Malya\\anaconda3\\Lib\\site-packages\\sklearn\\base.py:464: UserWarning: X does not have valid feature names, but StandardScaler was fitted with feature names\n",
      "  warnings.warn(\n"
     ]
    }
   ],
   "source": [
    "# Load the trained model\n",
    "loaded_model = pickle.load(open('finalised_model_SVC_Grid.sav', \"rb\"))\n",
    "scx = pickle.load(open(filename1, 'rb'))\n",
    "input_data = [[2.000000, 76.459948, 3.0, 0.0, 148.112676, 57.482105, 3.077356, 137.528754, 4.627244, 12.518156,\n",
    "                1, 0, 0, 0, 0, 0, 0, 1, 1, 0, 0, 1, 0, 1, 0, 1, 0]] \n",
    "preinput = scx.transform(input_data)\n",
    "\n",
    "# Make prediction\n",
    "result = loaded_model.predict(preinput)\n",
    "\n",
    "print(f'Prediction result: {result}')"
   ]
  },
  {
   "cell_type": "code",
   "execution_count": 6,
   "id": "4f0b37cd",
   "metadata": {},
   "outputs": [
    {
     "data": {
      "text/plain": [
       "array([1])"
      ]
     },
     "execution_count": 6,
     "metadata": {},
     "output_type": "execute_result"
    }
   ],
   "source": [
    "result"
   ]
  },
  {
   "cell_type": "code",
   "execution_count": null,
   "id": "d760605f",
   "metadata": {},
   "outputs": [],
   "source": []
  }
 ],
 "metadata": {
  "kernelspec": {
   "display_name": "Python 3 (ipykernel)",
   "language": "python",
   "name": "python3"
  },
  "language_info": {
   "codemirror_mode": {
    "name": "ipython",
    "version": 3
   },
   "file_extension": ".py",
   "mimetype": "text/x-python",
   "name": "python",
   "nbconvert_exporter": "python",
   "pygments_lexer": "ipython3",
   "version": "3.11.5"
  }
 },
 "nbformat": 4,
 "nbformat_minor": 5
}
