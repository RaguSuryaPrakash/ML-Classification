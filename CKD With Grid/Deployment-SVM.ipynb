{
 "cells": [
  {
   "cell_type": "code",
   "execution_count": 1,
   "id": "17d00230",
   "metadata": {},
   "outputs": [],
   "source": [
    "import pickle\n",
    "filename=(('finalised_model_SVC_Grid.sav'))"
   ]
  },
  {
   "cell_type": "code",
   "execution_count": 2,
   "id": "1b5a64e8",
   "metadata": {},
   "outputs": [],
   "source": [
    "loaded_model = pickle.load(open('finalised_model_SVC_Grid.sav', \"rb\"))\n",
    "result = loaded_model.predict([[2.000000, 76.459948, 3.0, 0.0, 148.112676, 57.482105, 3.077356, 137.528754, 4.627244, 12.518156,\n",
    "                1, 0, 0, 0, 0, 0, 0, 1, 1, 0,0,1,0,1,0,1,0]])"
   ]
  },
  {
   "cell_type": "code",
   "execution_count": 3,
   "id": "83bf80d7",
   "metadata": {},
   "outputs": [
    {
     "data": {
      "text/plain": [
       "array([1])"
      ]
     },
     "execution_count": 3,
     "metadata": {},
     "output_type": "execute_result"
    }
   ],
   "source": [
    "result"
   ]
  },
  {
   "cell_type": "code",
   "execution_count": null,
   "id": "32fa5773",
   "metadata": {},
   "outputs": [],
   "source": []
  }
 ],
 "metadata": {
  "kernelspec": {
   "display_name": "Python 3 (ipykernel)",
   "language": "python",
   "name": "python3"
  },
  "language_info": {
   "codemirror_mode": {
    "name": "ipython",
    "version": 3
   },
   "file_extension": ".py",
   "mimetype": "text/x-python",
   "name": "python",
   "nbconvert_exporter": "python",
   "pygments_lexer": "ipython3",
   "version": "3.11.5"
  }
 },
 "nbformat": 4,
 "nbformat_minor": 5
}
